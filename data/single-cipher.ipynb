{
 "cells": [
  {
   "cell_type": "code",
   "execution_count": null,
   "metadata": {},
   "outputs": [],
   "source": [
    "# Plot various data\n",
    "\n",
    "import pandas as pd\n",
    "import matplotlib.pyplot as plt\n",
    "from mpl_toolkits.mplot3d import axes3d\n",
    "import math\n",
    "\n",
    "figsize=(4.5, 3)"
   ]
  },
  {
   "cell_type": "code",
   "execution_count": null,
   "metadata": {},
   "outputs": [],
   "source": [
    "# Only read this one CSV.\n",
    "# Change this, if you are interested in different ciphers\n",
    "data = pd.read_csv(\"DHE-RSA-AES128-GCM-SHA256.csv\")"
   ]
  },
  {
   "cell_type": "code",
   "execution_count": null,
   "metadata": {},
   "outputs": [],
   "source": [
    "data1C = data[data['numConns'] == 1]\n",
    "#data1C"
   ]
  },
  {
   "cell_type": "code",
   "execution_count": null,
   "metadata": {},
   "outputs": [],
   "source": [
    "data1C.loc[[0]]['dataLen'] = 500\n",
    "#data1C"
   ]
  },
  {
   "cell_type": "code",
   "execution_count": null,
   "metadata": {},
   "outputs": [],
   "source": [
    "# Normalize the data\n",
    "for i,r in data1C.iterrows():\n",
    "    r['openssl'] /= r['numBytes']\n",
    "    r['denseMap'] /= r['numPkts']\n",
    "    r['tbb'] /= r['numPkts']\n",
    "    r['siphash'] /= r['numPkts']\n",
    "    "
   ]
  },
  {
   "cell_type": "code",
   "execution_count": null,
   "metadata": {},
   "outputs": [],
   "source": [
    "#plt.plot(data1C['dataLen'], data1C['openssl'])\n",
    "\n",
    "# Plot the cost of siphash\n",
    "fig = plt.figure(figsize=figsize, dpi=300)\n",
    "plt.plot(data1C['dataLen'], data1C['siphash'])\n",
    "plt.semilogx()\n",
    "plt.xlabel('Data Length')\n",
    "plt.ylabel('Cycles')\n",
    "plt.title(\"Cost of siphash by data length\")\n",
    "\n",
    "plt.grid(b=True)\n",
    "\n",
    "plt.savefig('output/siphash.pdf',bbox_inches='tight')\n",
    "plt.show()"
   ]
  },
  {
   "cell_type": "code",
   "execution_count": null,
   "metadata": {},
   "outputs": [],
   "source": [
    "# Plot the cost of TBB's shared map\n",
    "tbbMean = data.groupby(['numConns'])['tbb'].mean()\n",
    "steps = data['numConns'].unique()\n",
    "\n",
    "[print(\"{\" + str(x) + \",\" + str(tbbMean[x]) + \"},\", end='') for x in data['numConns'].unique()]\n",
    "\n",
    "fig = plt.figure(figsize=figsize, dpi=300)\n",
    "plt.plot(steps, tbbMean)\n",
    "plt.ylim([0,40000])\n",
    "plt.xlabel('#Connections')\n",
    "plt.ylabel('Cycles')\n",
    "plt.title(\"Cost of shared map by number of connections\")\n",
    "\n",
    "plt.grid(b=True)\n",
    "\n",
    "plt.savefig('output/tbb.pdf',bbox_inches='tight')\n",
    "plt.show()"
   ]
  },
  {
   "cell_type": "code",
   "execution_count": null,
   "metadata": {},
   "outputs": [],
   "source": [
    "# Plot the cost of the memory allocation\n",
    "memMean = data.groupby(['numConns'])['memory'].mean()\n",
    "\n",
    "#print(memMean)\n",
    "\n",
    "memMeanPC = [memMean[x] / x for x in data['numConns'].unique()]\n",
    "\n",
    "#[print(\"{\" + str(x) + \",\" + str(memMean[x]) + \"},\", end='') for x in data['numConns'].unique()]\n",
    "\n",
    "fig = plt.figure(figsize=figsize, dpi=300)\n",
    "plt.plot(steps, memMean)\n",
    "plt.ylim([0,15000])\n",
    "plt.xlabel('#Connections')\n",
    "plt.ylabel('Cycles')\n",
    "plt.title(\"Cost of memory allocation by number of connections\")\n",
    "\n",
    "plt.grid(b=True)\n",
    "\n",
    "plt.savefig('output/memory.pdf',bbox_inches='tight')\n",
    "plt.show()"
   ]
  },
  {
   "cell_type": "code",
   "execution_count": null,
   "metadata": {},
   "outputs": [],
   "source": [
    "# Build logarithmic data\n",
    "dataDense = data\n",
    "for _,r in dataDense.iterrows():\n",
    "    r['denseMap'] /= r['numPkts']\n",
    "    r['dataLen'] = math.log10(r['dataLen'])\n",
    "    r['numConns'] = math.log(r['numConns'],2)"
   ]
  },
  {
   "cell_type": "code",
   "execution_count": null,
   "metadata": {
    "scrolled": false
   },
   "outputs": [],
   "source": [
    "# Plot the denseMap cost in 3D\n",
    "\n",
    "denseMapMean = dataDense.groupby(['numConns'])['denseMap'].mean()\n",
    "steps = data['numConns'].unique()\n",
    "\n",
    "import numpy as np\n",
    "\n",
    "#X = dataDense['dataLen'].apply(math.log10)\n",
    "X = [np.arange(2,8)] * 6\n",
    "\n",
    "#Y = dataDense['numConns'].apply(lambda x: math.log(x,2))\n",
    "Y = [[x] * 6 for x in range(1,7)]\n",
    "\n",
    "#Z = dataDense['denseMap']\n",
    "Z = dataDense.pivot(index='numConns', columns='dataLen', values='denseMap').as_matrix()\n",
    "\n",
    "#fig = plt.figure(figsize=(16, 10), dpi=80)\n",
    "fig = plt.figure(figsize=(7, 4), dpi=300)\n",
    "#fig = plt.figure(figsize=figsize, dpi=300)\n",
    "ax = fig.gca(projection='3d')\n",
    "\n",
    "ax.set_xlabel('#Bytes 10^x')\n",
    "ax.set_ylabel('#Connections 2^x')\n",
    "ax.set_zlabel('Cycles')\n",
    "\n",
    "ax.set_zlim(0,600)\n",
    "\n",
    "#ax.scatter(X, Y, Z)\n",
    "ax.plot_wireframe(X,Y,Z)\n",
    "plt.title(\"Cost of state map by number of connections\")\n",
    "plt.savefig('output/denseMap.pdf',bbox_inches='tight')\n",
    "plt.show()\n",
    "\n",
    "#plt.plot(steps, denseMapMean)\n",
    "#plt.ylim([0,500])\n",
    "#plt.xlabel('#Connections')\n",
    "#plt.ylabel('Cycles')\n",
    "#plt.title(\"Cost of state map by number of connections\")\n",
    "#plt.show()\n",
    "#\n",
    "#dataDense"
   ]
  },
  {
   "cell_type": "code",
   "execution_count": null,
   "metadata": {},
   "outputs": [],
   "source": []
  }
 ],
 "metadata": {
  "kernelspec": {
   "display_name": "Python 3",
   "language": "python",
   "name": "python3"
  },
  "language_info": {
   "codemirror_mode": {
    "name": "ipython",
    "version": 3
   },
   "file_extension": ".py",
   "mimetype": "text/x-python",
   "name": "python",
   "nbconvert_exporter": "python",
   "pygments_lexer": "ipython3",
   "version": "3.6.4"
  }
 },
 "nbformat": 4,
 "nbformat_minor": 2
}
