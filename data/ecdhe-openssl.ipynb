{
 "cells": [
  {
   "cell_type": "code",
   "execution_count": null,
   "metadata": {},
   "outputs": [],
   "source": [
    "# This script tries to approximate the cost of the DTLS handshake\n",
    "\n",
    "import pandas as pd\n",
    "import matplotlib.pyplot as plt\n",
    "from mpl_toolkits.mplot3d import Axes3D\n",
    "import math\n",
    "import numpy as np\n",
    "from scipy import optimize\n",
    "import sys\n",
    "\n",
    "figsize=(4.5, 3)"
   ]
  },
  {
   "cell_type": "code",
   "execution_count": null,
   "metadata": {},
   "outputs": [],
   "source": [
    "# Read the data\n",
    "ssl = pd.read_csv(\"ecdhe-openssl-fine.csv\")\n",
    "for _,r in ssl.iterrows():\n",
    "    r['openssl'] /= r['numConns']"
   ]
  },
  {
   "cell_type": "code",
   "execution_count": null,
   "metadata": {},
   "outputs": [],
   "source": [
    "#print(ssl['openssl'])\n",
    "\n",
    "# This function will be fitted to the data\n",
    "def fitfunc(x,t,o):\n",
    "    # This is the actual mathematical function\n",
    "    def runner(a):\n",
    "        return (t/a) + o\n",
    "    # Magic in case curve_fit hands us an array\n",
    "    if isinstance(x, np.ndarray):\n",
    "        ret = []\n",
    "        for s in x:\n",
    "            ret += [runner(s)]\n",
    "        return ret\n",
    "    else:\n",
    "        return runner(x)\n",
    "\n",
    "#params = [1.02,2**11,600]\n",
    "# Try to fit the data\n",
    "params, _ = optimize.curve_fit(fitfunc, ssl['numConns'], ssl['openssl'])\n",
    "\n",
    "print(params)\n",
    "\n",
    "fit = []\n",
    "for s in ssl['numConns']:\n",
    "    fit += [fitfunc(s,params[0],params[1])]\n",
    "    \n",
    "fig = plt.figure(figsize=figsize, dpi=300)\n",
    "\n",
    "plt.ylabel('Cycles per Connection')\n",
    "plt.xlabel('#Connection')\n",
    "\n",
    "plt.ylim([0,8500000])\n",
    "\n",
    "plt.plot(ssl['numConns'], ssl['openssl'], label=\"data\")\n",
    "plt.plot(ssl['numConns'], fit, label=\"fit\")\n",
    "plt.legend()\n",
    "plt.grid(b=True)\n",
    "plt.savefig('output/openssl_cost.pdf',bbox_inches='tight')\n",
    "plt.show()"
   ]
  },
  {
   "cell_type": "code",
   "execution_count": null,
   "metadata": {},
   "outputs": [],
   "source": []
  }
 ],
 "metadata": {
  "kernelspec": {
   "display_name": "Python 3",
   "language": "python",
   "name": "python3"
  },
  "language_info": {
   "codemirror_mode": {
    "name": "ipython",
    "version": 3
   },
   "file_extension": ".py",
   "mimetype": "text/x-python",
   "name": "python",
   "nbconvert_exporter": "python",
   "pygments_lexer": "ipython3",
   "version": "3.6.4"
  }
 },
 "nbformat": 4,
 "nbformat_minor": 2
}
