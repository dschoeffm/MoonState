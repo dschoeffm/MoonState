{
 "cells": [
  {
   "cell_type": "code",
   "execution_count": null,
   "metadata": {},
   "outputs": [],
   "source": [
    "# This script tries to model the cost of siphash\n",
    "import pandas as pd\n",
    "import matplotlib.pyplot as plt\n",
    "from mpl_toolkits.mplot3d import axes3d\n",
    "import math\n",
    "from scipy import optimize\n",
    "import numpy as np\n",
    "\n",
    "figsize=(4.5, 3)"
   ]
  },
  {
   "cell_type": "code",
   "execution_count": null,
   "metadata": {},
   "outputs": [],
   "source": [
    "data = pd.read_csv(\"siphash.csv\")"
   ]
  },
  {
   "cell_type": "code",
   "execution_count": null,
   "metadata": {},
   "outputs": [],
   "source": [
    "# The siphash model\n",
    "def fitfunc(x,t,o):\n",
    "    # Actual mathematical model\n",
    "    def runner(a):\n",
    "        return (t/a) + o\n",
    "    # Magic for scipy\n",
    "    if isinstance(x, np.ndarray):\n",
    "        ret = []\n",
    "        for s in x:\n",
    "            ret += [runner(s)]\n",
    "        return ret\n",
    "    else:\n",
    "        return runner(x)\n",
    "\n",
    "#params = [1.02,2**11,600]\n",
    "# Fit the data\n",
    "params, _ = optimize.curve_fit(fitfunc, data['size'], data['cycles'])\n",
    "\n",
    "print(params)\n",
    "\n",
    "# Plot the data\n",
    "fit = []\n",
    "for s in data['size']:\n",
    "    fit += [fitfunc(s,params[0],params[1])]\n",
    "\n",
    "fig = plt.figure(figsize=figsize, dpi=300)\n",
    "plt.scatter(data['size'], data['cycles'], 5, label=\"data\")\n",
    "plt.plot(data['size'], fit, color='orange', label=\"fit\")\n",
    "plt.ylim([1,2**10])\n",
    "#plt.semilogx(basex=2)\n",
    "plt.loglog(basex=2, basey=2)\n",
    "plt.grid(b=True)\n",
    "plt.xlabel('#Runs')\n",
    "plt.ylabel('Cycles per Run')\n",
    "plt.legend()\n",
    "fig.savefig('output/synth-siphash.pdf',bbox_inches='tight')\n",
    "plt.show()"
   ]
  },
  {
   "cell_type": "code",
   "execution_count": null,
   "metadata": {},
   "outputs": [],
   "source": []
  }
 ],
 "metadata": {
  "kernelspec": {
   "display_name": "Python 3",
   "language": "python",
   "name": "python3"
  },
  "language_info": {
   "codemirror_mode": {
    "name": "ipython",
    "version": 3
   },
   "file_extension": ".py",
   "mimetype": "text/x-python",
   "name": "python",
   "nbconvert_exporter": "python",
   "pygments_lexer": "ipython3",
   "version": "3.6.4"
  }
 },
 "nbformat": 4,
 "nbformat_minor": 2
}
