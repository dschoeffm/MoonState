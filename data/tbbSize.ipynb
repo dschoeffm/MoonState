{
 "cells": [
  {
   "cell_type": "code",
   "execution_count": null,
   "metadata": {},
   "outputs": [],
   "source": [
    "# Model the cost of TBB's shared map\n",
    "import pandas as pd\n",
    "import matplotlib.pyplot as plt\n",
    "from mpl_toolkits.mplot3d import Axes3D\n",
    "import math\n",
    "import numpy as np\n",
    "from scipy import optimize\n",
    "import sys\n",
    "\n",
    "figsize=(4.5, 3)"
   ]
  },
  {
   "cell_type": "code",
   "execution_count": null,
   "metadata": {},
   "outputs": [],
   "source": [
    "# Read the data\n",
    "tbb = pd.read_csv(\"tbbSize.csv\")\n",
    "for _,r in tbb.iterrows():\n",
    "    r['add'] /= r['size']"
   ]
  },
  {
   "cell_type": "code",
   "execution_count": null,
   "metadata": {},
   "outputs": [],
   "source": [
    "# Define function and plot\n",
    "\n",
    "tbbMean = tbb.groupby(['size'])['add'].mean()\n",
    "steps = tbb['size'].unique()\n",
    "\n",
    "def fitfunc(x,t,ox,oy):\n",
    "    def runner(a):\n",
    "        #return (a+ox)*t + oy\n",
    "        oxnow = ox\n",
    "        if (a - ox) < 1:\n",
    "            oxnow = a - 1\n",
    "        return math.log((a-oxnow),t) + oy\n",
    "        #return math.log(a, t) +oy\n",
    "    if isinstance(x, np.ndarray):\n",
    "        ret = []\n",
    "        for s in x:\n",
    "            ret += [runner(s)]\n",
    "        return ret\n",
    "    else:\n",
    "        return runner(x)\n",
    "\n",
    "params = [1.0002,2**15,600]\n",
    "params, _ = optimize.curve_fit(fitfunc, steps, tbbMean, p0=params, bounds=([1.0001, 0, 0], [1.03, 10000000, 800]))\n",
    "\n",
    "fit = []\n",
    "for s in steps:\n",
    "    fit += [fitfunc(s,params[0],0,params[2])]\n",
    "    \n",
    "print(params)\n",
    "\n",
    "\n",
    "smalls = []\n",
    "for x in [1,2,4,8,16,32]:\n",
    "    smalls += [(x, fitfunc(x,params[0],params[1],params[2]))]\n",
    "\n",
    "for s in smalls:\n",
    "    print(s)\n",
    "\n",
    "fig = plt.figure(figsize=figsize, dpi=300)\n",
    "plt.plot(steps, fit, label=\"fit\")\n",
    "plt.plot(steps, tbbMean, label=\"data\")\n",
    "plt.ylim(0,1600)\n",
    "plt.ticklabel_format(style='sci', axis='x', scilimits=(0,0))\n",
    "plt.legend()\n",
    "plt.ylabel(\"Cycles per Operation\")\n",
    "plt.xlabel(\"#Operations\")\n",
    "plt.grid(b=True)\n",
    "plt.savefig('output/synth-tbb.pdf',bbox_inches='tight')\n",
    "plt.show()\n",
    "\n",
    "fig = plt.figure(figsize=figsize, dpi=300)\n",
    "plt.semilogx(basex=2)\n",
    "plt.plot(steps, fit, label=\"fit\")\n",
    "plt.plot(steps, tbbMean, label=\"data\")\n",
    "plt.ylim(0,1600)\n",
    "plt.grid(b=True)\n",
    "plt.legend()\n",
    "plt.show()"
   ]
  },
  {
   "cell_type": "code",
   "execution_count": null,
   "metadata": {},
   "outputs": [],
   "source": []
  }
 ],
 "metadata": {
  "kernelspec": {
   "display_name": "Python 3",
   "language": "python",
   "name": "python3"
  },
  "language_info": {
   "codemirror_mode": {
    "name": "ipython",
    "version": 3
   },
   "file_extension": ".py",
   "mimetype": "text/x-python",
   "name": "python",
   "nbconvert_exporter": "python",
   "pygments_lexer": "ipython3",
   "version": "3.6.4"
  }
 },
 "nbformat": 4,
 "nbformat_minor": 2
}
