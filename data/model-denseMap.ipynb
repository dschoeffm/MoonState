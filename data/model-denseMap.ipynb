{
 "cells": [
  {
   "cell_type": "code",
   "execution_count": null,
   "metadata": {},
   "outputs": [],
   "source": [
    "# This script tries to approximate the cost of Google's DenseMap\n",
    "\n",
    "import pandas as pd\n",
    "import matplotlib.pyplot as plt\n",
    "from mpl_toolkits.mplot3d import Axes3D\n",
    "import math\n",
    "import numpy as np\n",
    "\n",
    "figsize=(4.5, 3)"
   ]
  },
  {
   "cell_type": "code",
   "execution_count": null,
   "metadata": {},
   "outputs": [],
   "source": [
    "# Just plot the data\n",
    "data = pd.read_csv(\"stateTableSizeScatterDenseMap.csv\")\n",
    "setupMin = data.groupby(['size'])['setup'].min()\n",
    "runMin = data.groupby(['size'])['run'].min()\n",
    "steps = data['size'].unique()\n",
    "\n",
    "plt.semilogx(basex=2)\n",
    "plt.ylim([0,1200])\n",
    "\n",
    "plt.plot(steps, setupMin)\n",
    "\n",
    "plt.grid(b=True)\n",
    "\n",
    "plt.show()"
   ]
  },
  {
   "cell_type": "code",
   "execution_count": null,
   "metadata": {},
   "outputs": [],
   "source": [
    "# This function models the insertion cost\n",
    "def fun(x):\n",
    "    return (600 + math.log(x,1.2)) + 150* (((np.sum([2**i for i in range(2, math.floor(math.log(x,2)))])/ x) -0.5) *2)\n",
    "\n",
    "# This function models the query cost\n",
    "def fun2(x):\n",
    "    return math.log(x,1.06)"
   ]
  },
  {
   "cell_type": "code",
   "execution_count": null,
   "metadata": {},
   "outputs": [],
   "source": [
    "#x = np.arange(2**10-1,2**17, 16)\n",
    "# Calculate the functions\n",
    "y = [fun(i) for i in steps]\n",
    "y2 = [fun2(i) for i in steps]\n",
    "\n",
    "fig = plt.figure(figsize=figsize, dpi=300)\n",
    "\n",
    "plt.semilogx(basex=2)\n",
    "plt.ylim([0,1200])\n",
    "\n",
    "# Plot the data\n",
    "plt.plot(steps,y, label=\"fit-setup\")\n",
    "plt.plot(steps, setupMin, label=\"data-setup\")\n",
    "plt.plot(steps, y2, label=\"fit-run\")\n",
    "plt.plot(steps, runMin, label=\"data-run\")\n",
    "plt.legend(bbox_to_anchor=(1, 1))\n",
    "plt.ylabel(\"Cycles per Operation\")\n",
    "plt.xlabel(\"#Operations\")\n",
    "plt.grid(b=True)\n",
    "\n",
    "plt.savefig('output/synth-denseMap.pdf',bbox_inches='tight')\n",
    "plt.show()"
   ]
  },
  {
   "cell_type": "code",
   "execution_count": null,
   "metadata": {},
   "outputs": [],
   "source": []
  }
 ],
 "metadata": {
  "kernelspec": {
   "display_name": "Python 3",
   "language": "python",
   "name": "python3"
  },
  "language_info": {
   "codemirror_mode": {
    "name": "ipython",
    "version": 3
   },
   "file_extension": ".py",
   "mimetype": "text/x-python",
   "name": "python",
   "nbconvert_exporter": "python",
   "pygments_lexer": "ipython3",
   "version": "3.6.4"
  }
 },
 "nbformat": 4,
 "nbformat_minor": 2
}
